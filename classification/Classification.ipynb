{
 "cells": [
  {
   "cell_type": "code",
   "execution_count": 1,
   "metadata": {},
   "outputs": [],
   "source": [
    "import os\n",
    "import numpy as np\n",
    "import matplotlib.pyplot as plt\n",
    "import pandas as pd\n",
    "\n",
    "# to keep the notebook cleaner, we disable warnings for now\n",
    "import warnings\n",
    "warnings.filterwarnings('ignore')\n",
    "\n",
    "%matplotlib inline"
   ]
  },
  {
   "cell_type": "markdown",
   "metadata": {},
   "source": [
    "## Loading data\n",
    "First we have to load data from the various tab-separated files\n",
    "\n",
    "Source: https://archive.ics.uci.edu/ml/datasets/diabetes"
   ]
  },
  {
   "cell_type": "code",
   "execution_count": 2,
   "metadata": {
    "scrolled": true
   },
   "outputs": [],
   "source": [
    "path = 'data/raw/'\n",
    "df = pd.DataFrame()\n",
    "df_list=[]\n",
    "#df_list = [pd.read_csv(path + file ,sep='\\t',header=None) for file in os.listdir(path)]\n",
    "for i,file in enumerate(os.listdir(path)):\n",
    "    df_temp = pd.read_csv(path + file ,sep='\\t',header=None)\n",
    "    df_temp['id_patient'] = i\n",
    "    df = df.append(df_temp,ignore_index=True)"
   ]
  },
  {
   "cell_type": "code",
   "execution_count": 3,
   "metadata": {},
   "outputs": [],
   "source": [
    "df.columns = ['date', 'time', 'code', 'value','id_patient']"
   ]
  },
  {
   "cell_type": "code",
   "execution_count": 4,
   "metadata": {},
   "outputs": [],
   "source": [
    "mapper = {\n",
    "33: 'Regular insulin dose',\n",
    "34: 'NPH insulin dose',\n",
    "35: 'UltraLente insulin dose',\n",
    "48: 'Unspecified blood glucose measurement',\n",
    "57: 'Unspecified blood glucose measurement',\n",
    "58: 'Pre-breakfast blood glucose measurement',\n",
    "59: 'Post-breakfast blood glucose measurement',\n",
    "60: 'Pre-lunch blood glucose measurement',\n",
    "61: 'Post-lunch blood glucose measurement',\n",
    "62: 'Pre-supper blood glucose measurement',\n",
    "63: 'Post-supper blood glucose measurement',\n",
    "64: 'Pre-snack blood glucose measurement',\n",
    "65: 'Hypoglycemic symptoms',\n",
    "66: 'Typical meal ingestion',\n",
    "67: 'More-than-usual meal ingestion',\n",
    "68: 'Less-than-usual meal ingestion',\n",
    "69: 'Typical exercise activity',\n",
    "70: 'More-than-usual exercise activity',\n",
    "71: 'Less-than-usual exercise activity',\n",
    "72: 'Unspecified special event'\n",
    "}"
   ]
  },
  {
   "cell_type": "markdown",
   "metadata": {},
   "source": [
    "we have to remove all rows not a with code == 56 and N/A"
   ]
  },
  {
   "cell_type": "markdown",
   "metadata": {},
   "source": [
    "## Data description\n",
    "The data set contains a diabetes patient record\n",
    "Columns:\n",
    "1. date\n",
    "2. time\n",
    "3. code describes (#TODO)\n",
    "4. value (#TODO) \n",
    "\n",
    "After a short Google \"Research\", we define `value` as too high if above 130 (before lunch) and 180 (if within 2 hours after lunch)\n",
    "\n",
    "Codes can be lookuped in a second dataframe (df_codes)"
   ]
  },
  {
   "cell_type": "code",
   "execution_count": 5,
   "metadata": {},
   "outputs": [
    {
     "data": {
      "text/html": [
       "<div>\n",
       "<style scoped>\n",
       "    .dataframe tbody tr th:only-of-type {\n",
       "        vertical-align: middle;\n",
       "    }\n",
       "\n",
       "    .dataframe tbody tr th {\n",
       "        vertical-align: top;\n",
       "    }\n",
       "\n",
       "    .dataframe thead th {\n",
       "        text-align: right;\n",
       "    }\n",
       "</style>\n",
       "<table border=\"1\" class=\"dataframe\">\n",
       "  <thead>\n",
       "    <tr style=\"text-align: right;\">\n",
       "      <th></th>\n",
       "      <th>date</th>\n",
       "      <th>time</th>\n",
       "      <th>code</th>\n",
       "      <th>value</th>\n",
       "      <th>id_patient</th>\n",
       "    </tr>\n",
       "  </thead>\n",
       "  <tbody>\n",
       "    <tr>\n",
       "      <th>0</th>\n",
       "      <td>05-20-1991</td>\n",
       "      <td>08:00</td>\n",
       "      <td>58.0</td>\n",
       "      <td>101</td>\n",
       "      <td>0</td>\n",
       "    </tr>\n",
       "    <tr>\n",
       "      <th>1</th>\n",
       "      <td>05-20-1991</td>\n",
       "      <td>08:00</td>\n",
       "      <td>33.0</td>\n",
       "      <td>5</td>\n",
       "      <td>0</td>\n",
       "    </tr>\n",
       "    <tr>\n",
       "      <th>2</th>\n",
       "      <td>05-20-1991</td>\n",
       "      <td>08:00</td>\n",
       "      <td>34.0</td>\n",
       "      <td>27</td>\n",
       "      <td>0</td>\n",
       "    </tr>\n",
       "    <tr>\n",
       "      <th>3</th>\n",
       "      <td>05-20-1991</td>\n",
       "      <td>12:00</td>\n",
       "      <td>60.0</td>\n",
       "      <td>89</td>\n",
       "      <td>0</td>\n",
       "    </tr>\n",
       "    <tr>\n",
       "      <th>4</th>\n",
       "      <td>05-20-1991</td>\n",
       "      <td>12:00</td>\n",
       "      <td>33.0</td>\n",
       "      <td>3</td>\n",
       "      <td>0</td>\n",
       "    </tr>\n",
       "  </tbody>\n",
       "</table>\n",
       "</div>"
      ],
      "text/plain": [
       "         date   time  code value  id_patient\n",
       "0  05-20-1991  08:00  58.0   101           0\n",
       "1  05-20-1991  08:00  33.0     5           0\n",
       "2  05-20-1991  08:00  34.0    27           0\n",
       "3  05-20-1991  12:00  60.0    89           0\n",
       "4  05-20-1991  12:00  33.0     3           0"
      ]
     },
     "execution_count": 5,
     "metadata": {},
     "output_type": "execute_result"
    }
   ],
   "source": [
    "df.head()"
   ]
  },
  {
   "cell_type": "markdown",
   "metadata": {},
   "source": [
    "We have null values in every column. We should check if it reasonable low, before just removing them"
   ]
  },
  {
   "cell_type": "code",
   "execution_count": 6,
   "metadata": {
    "scrolled": true
   },
   "outputs": [
    {
     "name": "stdout",
     "output_type": "stream",
     "text": [
      "<class 'pandas.core.frame.DataFrame'>\n",
      "RangeIndex: 29331 entries, 0 to 29330\n",
      "Data columns (total 5 columns):\n",
      "date          29297 non-null object\n",
      "time          29330 non-null object\n",
      "code          29330 non-null float64\n",
      "value         29297 non-null object\n",
      "id_patient    29331 non-null int64\n",
      "dtypes: float64(1), int64(1), object(3)\n",
      "memory usage: 1.1+ MB\n"
     ]
    }
   ],
   "source": [
    "df.info()"
   ]
  },
  {
   "cell_type": "code",
   "execution_count": 7,
   "metadata": {},
   "outputs": [
    {
     "name": "stdout",
     "output_type": "stream",
     "text": [
      "nulls in date: 34\n",
      "nulls in time: 1\n",
      "nulls in code: 1\n",
      "nulls in value: 34\n",
      "nulls in id_patient: 0\n"
     ]
    }
   ],
   "source": [
    "for column in df.columns:\n",
    "    print(f'nulls in {column}: {len(df[df[column].isnull()])}')"
   ]
  },
  {
   "cell_type": "markdown",
   "metadata": {},
   "source": [
    "We have to decide what to do with null-Values.\n",
    "(*remove* or *replace* (eg with the mean() or a constant))\n",
    "\n",
    "This time we just remove all of them"
   ]
  },
  {
   "cell_type": "code",
   "execution_count": 8,
   "metadata": {
    "scrolled": true
   },
   "outputs": [
    {
     "name": "stdout",
     "output_type": "stream",
     "text": [
      "removed 67 entries, length dataframe without null: 29264\n"
     ]
    }
   ],
   "source": [
    "before = len(df)\n",
    "df_clean = df.dropna()\n",
    "# I was just confused by the float-type of the code\n",
    "df_clean['code'] = df_clean['code'].astype('int64')\n",
    "# and some date transformation, so that we can use functions\n",
    "df_clean['timestamp'] = pd.to_datetime(df_clean['date'].astype(str) + ' ' + df_clean['time'],format='%m-%d-%Y %H:%M',errors='coerce')\n",
    "df_clean.dropna()\n",
    "after = len(df_clean)\n",
    "print(f'removed {before-after} entries, length dataframe without null: {after}')"
   ]
  },
  {
   "cell_type": "code",
   "execution_count": 9,
   "metadata": {},
   "outputs": [
    {
     "name": "stdout",
     "output_type": "stream",
     "text": [
      "<class 'pandas.core.frame.DataFrame'>\n",
      "Int64Index: 29264 entries, 0 to 29330\n",
      "Data columns (total 6 columns):\n",
      "date          29264 non-null object\n",
      "time          29264 non-null object\n",
      "code          29264 non-null int64\n",
      "value         29264 non-null object\n",
      "id_patient    29264 non-null int64\n",
      "timestamp     29252 non-null datetime64[ns]\n",
      "dtypes: datetime64[ns](1), int64(2), object(3)\n",
      "memory usage: 1.6+ MB\n"
     ]
    }
   ],
   "source": [
    "df_clean.info()"
   ]
  },
  {
   "cell_type": "markdown",
   "metadata": {},
   "source": [
    "we still have some null-values in the newly created timestamp column"
   ]
  },
  {
   "cell_type": "code",
   "execution_count": 10,
   "metadata": {},
   "outputs": [
    {
     "name": "stdout",
     "output_type": "stream",
     "text": [
      "removed 12 entries, length dataframe without null: 29252\n"
     ]
    }
   ],
   "source": [
    "before = len(df_clean)\n",
    "df_clean = df_clean.loc[df_clean['timestamp'].isnull()==False]\n",
    "after = len(df_clean)\n",
    "print(f'removed {before-after} entries, length dataframe without null: {after}')"
   ]
  },
  {
   "cell_type": "markdown",
   "metadata": {},
   "source": [
    "Next step is checking if we can map all codes with a value in mapper-dict above"
   ]
  },
  {
   "cell_type": "code",
   "execution_count": 11,
   "metadata": {},
   "outputs": [
    {
     "name": "stdout",
     "output_type": "stream",
     "text": [
      "removed 121 entries, length dataframe without null: 29131\n"
     ]
    }
   ],
   "source": [
    "before = len(df_clean)\n",
    "df_clean.drop(df_clean.loc[df['code'].apply(lambda x: x in mapper.keys()) == False].index,inplace=True)\n",
    "after = len(df_clean)\n",
    "print(f'removed {before-after} entries, length dataframe without null: {after}')"
   ]
  },
  {
   "cell_type": "markdown",
   "metadata": {},
   "source": [
    "We still have unclean data in the target column. Next step is to check them out and if necessary, remove them."
   ]
  },
  {
   "cell_type": "code",
   "execution_count": 12,
   "metadata": {},
   "outputs": [
    {
     "data": {
      "text/html": [
       "<div>\n",
       "<style scoped>\n",
       "    .dataframe tbody tr th:only-of-type {\n",
       "        vertical-align: middle;\n",
       "    }\n",
       "\n",
       "    .dataframe tbody tr th {\n",
       "        vertical-align: top;\n",
       "    }\n",
       "\n",
       "    .dataframe thead th {\n",
       "        text-align: right;\n",
       "    }\n",
       "</style>\n",
       "<table border=\"1\" class=\"dataframe\">\n",
       "  <thead>\n",
       "    <tr style=\"text-align: right;\">\n",
       "      <th></th>\n",
       "      <th>date</th>\n",
       "      <th>time</th>\n",
       "      <th>code</th>\n",
       "      <th>value</th>\n",
       "      <th>id_patient</th>\n",
       "      <th>timestamp</th>\n",
       "    </tr>\n",
       "  </thead>\n",
       "  <tbody>\n",
       "    <tr>\n",
       "      <th>12256</th>\n",
       "      <td>11-06-1989</td>\n",
       "      <td>11:00</td>\n",
       "      <td>57</td>\n",
       "      <td>0''</td>\n",
       "      <td>29</td>\n",
       "      <td>1989-11-06 11:00:00</td>\n",
       "    </tr>\n",
       "    <tr>\n",
       "      <th>19595</th>\n",
       "      <td>10-31-1989</td>\n",
       "      <td>12:00</td>\n",
       "      <td>60</td>\n",
       "      <td>0Hi</td>\n",
       "      <td>51</td>\n",
       "      <td>1989-10-31 12:00:00</td>\n",
       "    </tr>\n",
       "    <tr>\n",
       "      <th>19629</th>\n",
       "      <td>11-04-1989</td>\n",
       "      <td>18:00</td>\n",
       "      <td>62</td>\n",
       "      <td>0Hi</td>\n",
       "      <td>51</td>\n",
       "      <td>1989-11-04 18:00:00</td>\n",
       "    </tr>\n",
       "    <tr>\n",
       "      <th>19635</th>\n",
       "      <td>11-05-1989</td>\n",
       "      <td>12:00</td>\n",
       "      <td>60</td>\n",
       "      <td>0Hi</td>\n",
       "      <td>51</td>\n",
       "      <td>1989-11-05 12:00:00</td>\n",
       "    </tr>\n",
       "    <tr>\n",
       "      <th>19643</th>\n",
       "      <td>11-06-1989</td>\n",
       "      <td>12:00</td>\n",
       "      <td>60</td>\n",
       "      <td>0Hi</td>\n",
       "      <td>51</td>\n",
       "      <td>1989-11-06 12:00:00</td>\n",
       "    </tr>\n",
       "    <tr>\n",
       "      <th>19647</th>\n",
       "      <td>11-06-1989</td>\n",
       "      <td>22:00</td>\n",
       "      <td>48</td>\n",
       "      <td>0Hi</td>\n",
       "      <td>51</td>\n",
       "      <td>1989-11-06 22:00:00</td>\n",
       "    </tr>\n",
       "    <tr>\n",
       "      <th>19661</th>\n",
       "      <td>11-08-1989</td>\n",
       "      <td>18:00</td>\n",
       "      <td>62</td>\n",
       "      <td>0Lo</td>\n",
       "      <td>51</td>\n",
       "      <td>1989-11-08 18:00:00</td>\n",
       "    </tr>\n",
       "    <tr>\n",
       "      <th>20037</th>\n",
       "      <td>12-25-1989</td>\n",
       "      <td>22:00</td>\n",
       "      <td>48</td>\n",
       "      <td>0Hi</td>\n",
       "      <td>51</td>\n",
       "      <td>1989-12-25 22:00:00</td>\n",
       "    </tr>\n",
       "  </tbody>\n",
       "</table>\n",
       "</div>"
      ],
      "text/plain": [
       "             date   time  code value  id_patient           timestamp\n",
       "12256  11-06-1989  11:00    57   0''          29 1989-11-06 11:00:00\n",
       "19595  10-31-1989  12:00    60   0Hi          51 1989-10-31 12:00:00\n",
       "19629  11-04-1989  18:00    62   0Hi          51 1989-11-04 18:00:00\n",
       "19635  11-05-1989  12:00    60   0Hi          51 1989-11-05 12:00:00\n",
       "19643  11-06-1989  12:00    60   0Hi          51 1989-11-06 12:00:00\n",
       "19647  11-06-1989  22:00    48   0Hi          51 1989-11-06 22:00:00\n",
       "19661  11-08-1989  18:00    62   0Lo          51 1989-11-08 18:00:00\n",
       "20037  12-25-1989  22:00    48   0Hi          51 1989-12-25 22:00:00"
      ]
     },
     "execution_count": 12,
     "metadata": {},
     "output_type": "execute_result"
    }
   ],
   "source": [
    "df_clean.loc[pd.to_numeric(df_clean['value'], errors='coerce').notnull()==False]"
   ]
  },
  {
   "cell_type": "markdown",
   "metadata": {},
   "source": [
    "-> we have to check what 0Hi and 0Lo means\n",
    "For now, drop it"
   ]
  },
  {
   "cell_type": "code",
   "execution_count": 13,
   "metadata": {},
   "outputs": [
    {
     "name": "stdout",
     "output_type": "stream",
     "text": [
      "removed 8 entries, length dataframe without null: 29123\n"
     ]
    }
   ],
   "source": [
    "before = len(df_clean)\n",
    "df_clean.drop(df_clean.loc[pd.to_numeric(df_clean['value'], errors='coerce').notnull()==False].index,inplace=True)\n",
    "after = len(df_clean)\n",
    "df_clean['value'] = df_clean['value'].astype('int64')\n",
    "print(f'removed {before-after} entries, length dataframe without null: {after}')"
   ]
  },
  {
   "cell_type": "code",
   "execution_count": 14,
   "metadata": {},
   "outputs": [
    {
     "data": {
      "text/html": [
       "<div>\n",
       "<style scoped>\n",
       "    .dataframe tbody tr th:only-of-type {\n",
       "        vertical-align: middle;\n",
       "    }\n",
       "\n",
       "    .dataframe tbody tr th {\n",
       "        vertical-align: top;\n",
       "    }\n",
       "\n",
       "    .dataframe thead th {\n",
       "        text-align: right;\n",
       "    }\n",
       "</style>\n",
       "<table border=\"1\" class=\"dataframe\">\n",
       "  <thead>\n",
       "    <tr style=\"text-align: right;\">\n",
       "      <th></th>\n",
       "      <th>date</th>\n",
       "      <th>time</th>\n",
       "      <th>code</th>\n",
       "      <th>value</th>\n",
       "      <th>id_patient</th>\n",
       "      <th>timestamp</th>\n",
       "    </tr>\n",
       "  </thead>\n",
       "  <tbody>\n",
       "  </tbody>\n",
       "</table>\n",
       "</div>"
      ],
      "text/plain": [
       "Empty DataFrame\n",
       "Columns: [date, time, code, value, id_patient, timestamp]\n",
       "Index: []"
      ]
     },
     "execution_count": 14,
     "metadata": {},
     "output_type": "execute_result"
    }
   ],
   "source": [
    "df_clean.loc[df_clean['value'].isna()]"
   ]
  },
  {
   "cell_type": "markdown",
   "metadata": {},
   "source": [
    "### descriptive analysis, cleansing and outliers"
   ]
  },
  {
   "cell_type": "code",
   "execution_count": 15,
   "metadata": {
    "scrolled": true
   },
   "outputs": [
    {
     "data": {
      "text/html": [
       "<div>\n",
       "<style scoped>\n",
       "    .dataframe tbody tr th:only-of-type {\n",
       "        vertical-align: middle;\n",
       "    }\n",
       "\n",
       "    .dataframe tbody tr th {\n",
       "        vertical-align: top;\n",
       "    }\n",
       "\n",
       "    .dataframe thead th {\n",
       "        text-align: right;\n",
       "    }\n",
       "</style>\n",
       "<table border=\"1\" class=\"dataframe\">\n",
       "  <thead>\n",
       "    <tr style=\"text-align: right;\">\n",
       "      <th></th>\n",
       "      <th>code</th>\n",
       "      <th>value</th>\n",
       "      <th>id_patient</th>\n",
       "    </tr>\n",
       "  </thead>\n",
       "  <tbody>\n",
       "    <tr>\n",
       "      <th>count</th>\n",
       "      <td>29123.000000</td>\n",
       "      <td>29123.000000</td>\n",
       "      <td>29123.000000</td>\n",
       "    </tr>\n",
       "    <tr>\n",
       "      <th>mean</th>\n",
       "      <td>46.457027</td>\n",
       "      <td>79.129211</td>\n",
       "      <td>36.112694</td>\n",
       "    </tr>\n",
       "    <tr>\n",
       "      <th>std</th>\n",
       "      <td>13.381871</td>\n",
       "      <td>93.454781</td>\n",
       "      <td>21.169878</td>\n",
       "    </tr>\n",
       "    <tr>\n",
       "      <th>min</th>\n",
       "      <td>33.000000</td>\n",
       "      <td>0.000000</td>\n",
       "      <td>0.000000</td>\n",
       "    </tr>\n",
       "    <tr>\n",
       "      <th>25%</th>\n",
       "      <td>33.000000</td>\n",
       "      <td>6.000000</td>\n",
       "      <td>16.000000</td>\n",
       "    </tr>\n",
       "    <tr>\n",
       "      <th>50%</th>\n",
       "      <td>48.000000</td>\n",
       "      <td>22.000000</td>\n",
       "      <td>38.000000</td>\n",
       "    </tr>\n",
       "    <tr>\n",
       "      <th>75%</th>\n",
       "      <td>60.000000</td>\n",
       "      <td>141.000000</td>\n",
       "      <td>55.000000</td>\n",
       "    </tr>\n",
       "    <tr>\n",
       "      <th>max</th>\n",
       "      <td>72.000000</td>\n",
       "      <td>501.000000</td>\n",
       "      <td>70.000000</td>\n",
       "    </tr>\n",
       "  </tbody>\n",
       "</table>\n",
       "</div>"
      ],
      "text/plain": [
       "               code         value    id_patient\n",
       "count  29123.000000  29123.000000  29123.000000\n",
       "mean      46.457027     79.129211     36.112694\n",
       "std       13.381871     93.454781     21.169878\n",
       "min       33.000000      0.000000      0.000000\n",
       "25%       33.000000      6.000000     16.000000\n",
       "50%       48.000000     22.000000     38.000000\n",
       "75%       60.000000    141.000000     55.000000\n",
       "max       72.000000    501.000000     70.000000"
      ]
     },
     "execution_count": 15,
     "metadata": {},
     "output_type": "execute_result"
    }
   ],
   "source": [
    "df_clean.describe()"
   ]
  },
  {
   "cell_type": "code",
   "execution_count": 16,
   "metadata": {},
   "outputs": [
    {
     "data": {
      "image/png": "[encoded data removed]",
      "text/plain": [
       "<Figure size 576x432 with 2 Axes>"
      ]
     },
     "metadata": {},
     "output_type": "display_data"
    }
   ],
   "source": [
    "fig, axes = plt.subplots(ncols=2,sharex=False,sharey=True,figsize=(8,6))\n",
    "\n",
    "df_clean.boxplot(column=['code'],ax=axes[0],patch_artist=True);\n",
    "df_clean.boxplot(column=['value'],ax=axes[1],patch_artist=True);\n"
   ]
  },
  {
   "cell_type": "markdown",
   "metadata": {},
   "source": [
    "#### General statistics and correlations"
   ]
  },
  {
   "cell_type": "code",
   "execution_count": 17,
   "metadata": {},
   "outputs": [
    {
     "name": "stdout",
     "output_type": "stream",
     "text": [
      "Amount data points: 29331\n"
     ]
    }
   ],
   "source": [
    "print(f'Amount data points: {len(df)}')"
   ]
  },
  {
   "cell_type": "markdown",
   "metadata": {},
   "source": [
    "#### Date statistics"
   ]
  },
  {
   "cell_type": "code",
   "execution_count": 18,
   "metadata": {},
   "outputs": [
    {
     "name": "stdout",
     "output_type": "stream",
     "text": [
      "Amount days (uncleaned): 1141\n"
     ]
    }
   ],
   "source": [
    "amount_dates = df['date'].nunique()\n",
    "print(f'Amount days (uncleaned): {amount_dates}')"
   ]
  },
  {
   "cell_type": "code",
   "execution_count": 19,
   "metadata": {},
   "outputs": [
    {
     "data": {
      "text/plain": [
       "<matplotlib.axes._subplots.AxesSubplot at 0x117f3c278>"
      ]
     },
     "execution_count": 19,
     "metadata": {},
     "output_type": "execute_result"
    },
    {
     "data": {
      "image/png": "[encoded data removed]",
      "text/plain": [
       "<Figure size 432x288 with 1 Axes>"
      ]
     },
     "metadata": {},
     "output_type": "display_data"
    }
   ],
   "source": [
    "df.groupby('date').size().hist(bins=20)"
   ]
  },
  {
   "cell_type": "code",
   "execution_count": 20,
   "metadata": {},
   "outputs": [
    {
     "name": "stdout",
     "output_type": "stream",
     "text": [
      "Min. data points per day: 2\n",
      "Min. data points per day: 126\n",
      "count    1141.000000\n",
      "mean       25.676599\n",
      "std        26.557611\n",
      "min         2.000000\n",
      "50%        16.000000\n",
      "75%        31.000000\n",
      "80%        42.000000\n",
      "95%        86.000000\n",
      "99%       106.200000\n",
      "max       126.000000\n",
      "dtype: float64\n"
     ]
    }
   ],
   "source": [
    "min_per_day = df.groupby('date').size().min()\n",
    "max_per_day = df.groupby('date').size().max()\n",
    "print(f'Min. data points per day: {min_per_day}')\n",
    "print(f'Min. data points per day: {max_per_day}')\n",
    "print(df.groupby('date').size().describe(percentiles=[.75,.80,.95,.99]))"
   ]
  },
  {
   "cell_type": "markdown",
   "metadata": {},
   "source": [
    "### data set description\n",
    "1. The amount of data points per day is right-skewed -> 75% of days have less than 31, the remaining days hold between 32 and max 126 points\n",
    "2. "
   ]
  },
  {
   "cell_type": "markdown",
   "metadata": {},
   "source": [
    "#### Time statistics"
   ]
  },
  {
   "cell_type": "code",
   "execution_count": 21,
   "metadata": {},
   "outputs": [
    {
     "name": "stdout",
     "output_type": "stream",
     "text": [
      "Amount unique points in time (uncleaned): 1311\n"
     ]
    }
   ],
   "source": [
    "amount_times = df['time'].nunique()\n",
    "print(f'Amount unique points in time (uncleaned): {amount_times}')"
   ]
  },
  {
   "cell_type": "markdown",
   "metadata": {},
   "source": [
    "#### Code statistics"
   ]
  },
  {
   "cell_type": "code",
   "execution_count": 22,
   "metadata": {},
   "outputs": [
    {
     "name": "stdout",
     "output_type": "stream",
     "text": [
      "Amount unique points in code (uncleaned): 24\n"
     ]
    }
   ],
   "source": [
    "amount_codes = df['code'].nunique()\n",
    "print(f'Amount unique points in code (uncleaned): {amount_codes}')"
   ]
  },
  {
   "cell_type": "markdown",
   "metadata": {},
   "source": [
    "#### Value statistics"
   ]
  },
  {
   "cell_type": "code",
   "execution_count": 23,
   "metadata": {},
   "outputs": [
    {
     "name": "stdout",
     "output_type": "stream",
     "text": [
      "Amount unique points in value (uncleaned): 744\n"
     ]
    }
   ],
   "source": [
    "amount_values = df['value'].nunique()\n",
    "print(f'Amount unique points in value (uncleaned): {amount_values}')"
   ]
  },
  {
   "cell_type": "markdown",
   "metadata": {},
   "source": [
    "# Classification\n"
   ]
  },
  {
   "cell_type": "code",
   "execution_count": 24,
   "metadata": {},
   "outputs": [
    {
     "data": {
      "text/plain": [
       "False    21112\n",
       "True      8011\n",
       "Name: target, dtype: int64"
      ]
     },
     "execution_count": 24,
     "metadata": {},
     "output_type": "execute_result"
    }
   ],
   "source": [
    "df_clean['target'] = df_clean['value'].apply(lambda x : x > 130)\n",
    "df_clean['target'].value_counts()"
   ]
  },
  {
   "cell_type": "markdown",
   "metadata": {},
   "source": [
    "We will translate the target column into a binary integer format. This is easier to work with "
   ]
  },
  {
   "cell_type": "code",
   "execution_count": 25,
   "metadata": {},
   "outputs": [],
   "source": [
    "df_clean['target'] = (df_clean['target'] == True).astype(int)"
   ]
  },
  {
   "cell_type": "markdown",
   "metadata": {},
   "source": [
    "## Transformation and feature engineering"
   ]
  },
  {
   "cell_type": "markdown",
   "metadata": {},
   "source": [
    "When Should I Use Log Transformation?\n",
    "Many possible transformations exist. However, you should only use a log transformation if:\n",
    "\n",
    "Your data is highly skewed to the right (i.e. in the positive direction).\n",
    "(https://www.statisticshowto.datasciencecentral.com/probability-and-statistics/skewed-distribution/)"
   ]
  },
  {
   "cell_type": "code",
   "execution_count": null,
   "metadata": {},
   "outputs": [],
   "source": []
  },
  {
   "cell_type": "code",
   "execution_count": null,
   "metadata": {},
   "outputs": [],
   "source": [
    "from sklearn.metrics import precision_recall_curve\n",
    "y_train = [1]\n",
    "y_scores = [1]\n",
    "precisions, recalls, thresholds = precision_recall_curve(y_train, y_scores)"
   ]
  },
  {
   "cell_type": "code",
   "execution_count": null,
   "metadata": {},
   "outputs": [],
   "source": [
    "def plot_precision_recall_vs_threshold(precisions, recalls, thresholds):\n",
    "    plt.plot(thresholds, precisions[:-1], \"b--\", label=\"Precision\", linewidth=2)\n",
    "    plt.plot(thresholds, recalls[:-1], \"g-\", label=\"Recall\", linewidth=2)\n",
    "    plt.xlabel(\"Threshold\", fontsize=16)\n",
    "    plt.legend(loc=\"upper left\", fontsize=16)\n",
    "    plt.ylim([0, 1])"
   ]
  },
  {
   "cell_type": "code",
   "execution_count": null,
   "metadata": {},
   "outputs": [],
   "source": [
    "plt.figure(figsize=(8, 4))\n",
    "plot_precision_recall_vs_threshold(precisions, recalls, thresholds)\n",
    "plt.show()"
   ]
  },
  {
   "cell_type": "code",
   "execution_count": null,
   "metadata": {},
   "outputs": [],
   "source": []
  },
  {
   "cell_type": "code",
   "execution_count": null,
   "metadata": {},
   "outputs": [],
   "source": []
  },
  {
   "cell_type": "markdown",
   "metadata": {},
   "source": [
    "# Testing, sandbox area"
   ]
  },
  {
   "cell_type": "code",
   "execution_count": null,
   "metadata": {},
   "outputs": [],
   "source": []
  },
  {
   "cell_type": "code",
   "execution_count": null,
   "metadata": {},
   "outputs": [],
   "source": []
  }
 ],
 "metadata": {
  "kernelspec": {
   "display_name": "Python 3",
   "language": "python",
   "name": "python3"
  },
  "language_info": {
   "codemirror_mode": {
    "name": "ipython",
    "version": 3
   },
   "file_extension": ".py",
   "mimetype": "text/x-python",
   "name": "python",
   "nbconvert_exporter": "python",
   "pygments_lexer": "ipython3",
   "version": "3.6.5"
  }
 },
 "nbformat": 4,
 "nbformat_minor": 2
}
